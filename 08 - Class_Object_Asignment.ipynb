{
 "cells": [
  {
   "cell_type": "markdown",
   "metadata": {
    "id": "UlTyvTnVDRXI"
   },
   "source": [
    "## 1. Create Python class named `Student` and display its type"
   ]
  },
  {
   "cell_type": "code",
   "execution_count": 5,
   "metadata": {},
   "outputs": [
    {
     "name": "stdout",
     "output_type": "stream",
     "text": [
      "<class 'type'>\n"
     ]
    }
   ],
   "source": [
    "class student:\n",
    "    print(type(student))"
   ]
  },
  {
   "cell_type": "markdown",
   "metadata": {
    "id": "nYjL6Efcx6ad"
   },
   "source": [
    "## 2. How to call a variable and function by creating a simple class\n"
   ]
  },
  {
   "cell_type": "code",
   "execution_count": 5,
   "metadata": {},
   "outputs": [],
   "source": [
    "class Dog:\n",
    "    Var = \"This is Variable1\"\n",
    "    def __init__(self,n):\n",
    "        print(n,Dog.Var)"
   ]
  },
  {
   "cell_type": "code",
   "execution_count": 6,
   "metadata": {},
   "outputs": [
    {
     "name": "stdout",
     "output_type": "stream",
     "text": [
      "This is Variable1\n",
      "I'm from function This is Variable1\n"
     ]
    }
   ],
   "source": [
    "print(Dog.Var)\n",
    "A = Dog(\"I'm from function\")"
   ]
  },
  {
   "cell_type": "markdown",
   "metadata": {
    "id": "Qrn6EsJ7putu"
   },
   "source": [
    "## 3. Create a class with one `static variable` and two `instace variables`"
   ]
  },
  {
   "cell_type": "code",
   "execution_count": 46,
   "metadata": {},
   "outputs": [
    {
     "name": "stdout",
     "output_type": "stream",
     "text": [
      "I am Static variable\n",
      "instance_var1\n",
      "instance_var2\n"
     ]
    }
   ],
   "source": [
    "class student:\n",
    "    A = \"I am Static variable\"\n",
    "    def __init__(self,a,b):\n",
    "        self.a = a\n",
    "        self.b = b\n",
    "        print(self.a)\n",
    "        print(self.b)\n",
    "print(student.A)\n",
    "S = student(\"instance_var1\",\"instance_var2\")"
   ]
  },
  {
   "cell_type": "code",
   "execution_count": 3,
   "metadata": {},
   "outputs": [
    {
     "name": "stdout",
     "output_type": "stream",
     "text": [
      "I am Static variable\n",
      "instance_var1\n",
      "instance_var2\n"
     ]
    }
   ],
   "source": [
    "class student:\n",
    "    A = \"I am Static variable\"\n",
    "    def __init__(self,a,b):\n",
    "        self.a = a\n",
    "        self.b = b\n",
    "        print(student.A)\n",
    "        print(a)\n",
    "        print(b)\n",
    "S = student(\"instance_var1\",\"instance_var2\")"
   ]
  },
  {
   "cell_type": "markdown",
   "metadata": {
    "id": "m2__2x3B_gub"
   },
   "source": [
    "## 4. Create a `Vehicle` class with max_speed and mileage instance attributes"
   ]
  },
  {
   "cell_type": "code",
   "execution_count": 9,
   "metadata": {},
   "outputs": [],
   "source": [
    "class vehicle:\n",
    "    def __init__(self,max_speed,mileage):\n",
    "        self.a = max_speed\n",
    "        self.b = mileage\n",
    "        print(self.a,self.b)"
   ]
  },
  {
   "cell_type": "code",
   "execution_count": 10,
   "metadata": {},
   "outputs": [
    {
     "name": "stdout",
     "output_type": "stream",
     "text": [
      "240 18\n"
     ]
    }
   ],
   "source": [
    "K = vehicle(240,18)"
   ]
  },
  {
   "cell_type": "markdown",
   "metadata": {
    "id": "dGGYG_Sm1N4y"
   },
   "source": [
    "## 5. Create a simple class `Person` with constructer and one argument `name`"
   ]
  },
  {
   "cell_type": "code",
   "execution_count": 18,
   "metadata": {
    "id": "zkAdBgQP1bNW"
   },
   "outputs": [
    {
     "name": "stdout",
     "output_type": "stream",
     "text": [
      "Hello, my name is Ram\n"
     ]
    }
   ],
   "source": [
    "class Person:\n",
    "    def __init__(self,name):\n",
    "        self.n = name\n",
    "        print(\"Hello, my name is\",self.n)\n",
    "p = Person(\"Ram\")"
   ]
  },
  {
   "cell_type": "code",
   "execution_count": 17,
   "metadata": {},
   "outputs": [
    {
     "name": "stdout",
     "output_type": "stream",
     "text": [
      "Hello, my name is Ram\n"
     ]
    }
   ],
   "source": [
    "class Person:\n",
    "    def __init__(self,name):\n",
    "        self.n = name\n",
    "    def say_hi(self):\n",
    "        print(\"Hello, my name is\",self.n)\n",
    "p = Person(\"Ram\")\n",
    "p.say_hi()"
   ]
  },
  {
   "cell_type": "markdown",
   "metadata": {
    "id": "T9AQ6X3i2k6l"
   },
   "source": [
    "## 6. Create a class for `Students` information like `name, rollno, marks` and `school name` with static variable.\n",
    "- create a function for displaying student information\n",
    "- create one more function for getting students marks and percentage "
   ]
  },
  {
   "cell_type": "code",
   "execution_count": 21,
   "metadata": {},
   "outputs": [],
   "source": [
    "class Students:\n",
    "    d = {}\n",
    "    college = \"DIT\"\n",
    "   \n",
    "    def __init__(self,Name,RollNo,Marks):\n",
    "        self.n = Name\n",
    "        self.r = RollNo\n",
    "        self.m = Marks\n",
    "        print(\"Name: \"+self.n+\", RollNo: \"+str(self.r)+\", Marks: \"+str(self.m)+\", College: \"+Students.college)\n",
    "        Students.d[\"name\"] = self.n\n",
    "        Students.d[\"rno\"] = self.r\n",
    "        Students.d[\"marks\"] = self.m\n",
    "        print(\"Dictionary : \",Students.d)\n",
    "    def f(self):\n",
    "        print(\"percentahe of 399 out of 500 is :\",(self.m/500)*100)"
   ]
  },
  {
   "cell_type": "code",
   "execution_count": 25,
   "metadata": {},
   "outputs": [
    {
     "name": "stdout",
     "output_type": "stream",
     "text": [
      "Name: abc, RollNo: 1, Marks: 399, College: DIT\n",
      "Dictionary :  {'name': 'abc', 'rno': 1, 'marks': 399}\n",
      "percentahe of 399 out of 500 is : 79.80000000000001\n"
     ]
    }
   ],
   "source": [
    "A = Students(\"abc\",1,399)\n",
    "A.f()"
   ]
  },
  {
   "cell_type": "markdown",
   "metadata": {
    "id": "x-zGvkOi_9PD"
   },
   "source": [
    "## 7. Create a child class `Bus` that will inherit all of the variables and methods of the `Vehicle` class"
   ]
  },
  {
   "cell_type": "code",
   "execution_count": 34,
   "metadata": {},
   "outputs": [],
   "source": [
    "class Vehicle:\n",
    "    def features(self,Vehicle_name,Speed,Mileage):\n",
    "        self.v = Vehicle_name\n",
    "        self.s = Speed\n",
    "        self.m = Mileage\n",
    "        print(\"Vehicle_name:\",self.v,\"Speed:\",self.s,\"Mileage:\",self.m)\n",
    "class Bus(Vehicle):\n",
    "    pass"
   ]
  },
  {
   "cell_type": "code",
   "execution_count": 35,
   "metadata": {},
   "outputs": [],
   "source": [
    "A = Bus()"
   ]
  },
  {
   "cell_type": "code",
   "execution_count": 36,
   "metadata": {},
   "outputs": [
    {
     "name": "stdout",
     "output_type": "stream",
     "text": [
      "Vehicle_name: School Bus Speed: 180 Mileage: 12\n"
     ]
    }
   ],
   "source": [
    "A.features(\"School Bus\",180,12)"
   ]
  },
  {
   "cell_type": "markdown",
   "metadata": {
    "id": "Cex1VHlicvR0"
   },
   "source": [
    "## 8. Create a class `Employee` with two arguments `name and salary`\n",
    "- create a function which displays the employee information\n",
    "- Print total number of employees "
   ]
  },
  {
   "cell_type": "code",
   "execution_count": 1,
   "metadata": {},
   "outputs": [],
   "source": [
    "class Employee:\n",
    "        count=0\n",
    "        def __init__(self, name, salary):\n",
    "            self.name = name\n",
    "            self.salary = salary\n",
    "            Employee.count = Employee.count + 1\n",
    "        def displayCount(self):\n",
    "            print(\"Total Employee\", Employee.count)\n",
    "        def displayDetails(self):\n",
    "            print(\"Name:\", self.name, \", Salary:\", self.salary)"
   ]
  },
  {
   "cell_type": "code",
   "execution_count": 2,
   "metadata": {},
   "outputs": [],
   "source": [
    "e1 = Employee(\"Kush\",2000)\n",
    "e2 = Employee(\"Anu\",5000)\n",
    "e3 = Employee(\"Ajay\",7000)"
   ]
  },
  {
   "cell_type": "code",
   "execution_count": 4,
   "metadata": {},
   "outputs": [
    {
     "name": "stdout",
     "output_type": "stream",
     "text": [
      "Name: Kush , Salary: 2000\n",
      "Name: Anu , Salary: 5000\n",
      "Name: Ajay , Salary: 7000\n",
      "Total Employee 3\n"
     ]
    }
   ],
   "source": [
    "e1.displayDetails()\n",
    "e2.displayDetails()\n",
    "e3.displayDetails()\n",
    "e2.displayCount()"
   ]
  },
  {
   "cell_type": "code",
   "execution_count": null,
   "metadata": {
    "id": "BmFF6kFScPGl"
   },
   "outputs": [],
   "source": []
  }
 ],
 "metadata": {
  "colab": {
   "collapsed_sections": [],
   "name": "Class_Object_Asignment.ipynb",
   "provenance": []
  },
  "kernelspec": {
   "display_name": "Python 3 (ipykernel)",
   "language": "python",
   "name": "python3"
  },
  "language_info": {
   "codemirror_mode": {
    "name": "ipython",
    "version": 3
   },
   "file_extension": ".py",
   "mimetype": "text/x-python",
   "name": "python",
   "nbconvert_exporter": "python",
   "pygments_lexer": "ipython3",
   "version": "3.9.7"
  }
 },
 "nbformat": 4,
 "nbformat_minor": 1
}
