{
 "cells": [
  {
   "cell_type": "markdown",
   "metadata": {},
   "source": [
    "# Assignment Instructions\n",
    "\n",
    "`Hello Innominion,`\n",
    "\n",
    "- **Try to attempt all the questions in every possible way.**\n",
    "- **Some other topics are required to solve some questions. don't panic.**\n",
    "- **Those questions can be answered after the topics are taught.**\n",
    "\n",
    "\n",
    "- `Join Mentoring Session for the Support/Doubts Resolving with Our Technical Mentors (2.00 PM - 6.00 PM  Mon-Sat)` \n",
    "\n",
    "Happy Learning !!!"
   ]
  },
  {
   "cell_type": "code",
   "execution_count": null,
   "metadata": {},
   "outputs": [],
   "source": []
  },
  {
   "cell_type": "markdown",
   "metadata": {},
   "source": [
    "# Strings - Execrise"
   ]
  },
  {
   "cell_type": "code",
   "execution_count": 2,
   "metadata": {},
   "outputs": [],
   "source": [
    "text = \"\"\"The University of Hawaii began using radio to send digital information as early as 1971,using ALOHAnet. \n",
    "Friedhelm Hillebrand conceptualised SMS in 1984 while working for Deutsche Telekom. Sitting at a typewriter at home, \n",
    "Hillebrand typed out random sentences and counted every letter, number, punctuation, and space. \n",
    "Almost every time, the messages contained fewer than 160 characters, thus giving the basis for the \n",
    "limit one could type via text messaging. With Bernard Ghillebaert of France Télécom, he developed \n",
    "a proposal for the GSM (Groupe Spécial Mobile) meeting in February 1985 in Oslo. \n",
    "The first technical solution evolved in a GSM subgroup under the leadership of Finn Trosby. \n",
    "It was further developed under the leadership of Kevin Holley and Ian Harris (see Short Message Service). \n",
    "SMS forms an integral part of SS7 (Signalling System No. 7). Under SS7, it is a \"state\" with a 160 character data, \n",
    "coded in the ITU-T \"T.56\" text format, that has a \"sequence lead in\" to determine different language codes, \n",
    "and may have special character codes that permits, for example, sending simple graphs as text. \n",
    "This was part of ISDN (Integrated Services Digital Network) and since GSM is based on this, \n",
    "made its way to the mobile phone. Messages could be sent and received on ISDN phones, \n",
    "and these can send SMS to any GSM phone. The possibility of doing something is one thing, \n",
    "implementing it another, but systems existed from 1988 that sent SMS messages to mobile phones (compare ND-NOTIS).\"\"\""
   ]
  },
  {
   "cell_type": "code",
   "execution_count": 3,
   "metadata": {},
   "outputs": [
    {
     "name": "stdout",
     "output_type": "stream",
     "text": [
      "The University of Hawaii began using radio to send digital information as early as 1971,using ALOHAnet. \n",
      "Friedhelm Hillebrand conceptualised SMS in 1984 while working for Deutsche Telekom. Sitting at a typewriter at home, \n",
      "Hillebrand typed out random sentences and counted every letter, number, punctuation, and space. \n",
      "Almost every time, the messages contained fewer than 160 characters, thus giving the basis for the \n",
      "limit one could type via text messaging. With Bernard Ghillebaert of France Télécom, he developed \n",
      "a proposal for the GSM (Groupe Spécial Mobile) meeting in February 1985 in Oslo. \n",
      "The first technical solution evolved in a GSM subgroup under the leadership of Finn Trosby. \n",
      "It was further developed under the leadership of Kevin Holley and Ian Harris (see Short Message Service). \n",
      "SMS forms an integral part of SS7 (Signalling System No. 7). Under SS7, it is a \"state\" with a 160 character data, \n",
      "coded in the ITU-T \"T.56\" text format, that has a \"sequence lead in\" to determine different language codes, \n",
      "and may have special character codes that permits, for example, sending simple graphs as text. \n",
      "This was part of ISDN (Integrated Services Digital Network) and since GSM is based on this, \n",
      "made its way to the mobile phone. Messages could be sent and received on ISDN phones, \n",
      "and these can send SMS to any GSM phone. The possibility of doing something is one thing, \n",
      "implementing it another, but systems existed from 1988 that sent SMS messages to mobile phones (compare ND-NOTIS).\n"
     ]
    }
   ],
   "source": [
    "print(text)"
   ]
  },
  {
   "cell_type": "markdown",
   "metadata": {},
   "source": [
    ">  `Question:` How many characters in text"
   ]
  },
  {
   "cell_type": "code",
   "execution_count": 4,
   "metadata": {},
   "outputs": [
    {
     "data": {
      "text/plain": [
       "1507"
      ]
     },
     "execution_count": 4,
     "metadata": {},
     "output_type": "execute_result"
    }
   ],
   "source": [
    "len(text)"
   ]
  },
  {
   "cell_type": "markdown",
   "metadata": {},
   "source": [
    ">  `Question:` How many words are there in the \"text\""
   ]
  },
  {
   "cell_type": "code",
   "execution_count": 36,
   "metadata": {},
   "outputs": [
    {
     "data": {
      "text/plain": [
       "244"
      ]
     },
     "execution_count": 36,
     "metadata": {},
     "output_type": "execute_result"
    }
   ],
   "source": [
    "len(text.split())"
   ]
  },
  {
   "cell_type": "markdown",
   "metadata": {},
   "source": [
    ">  `Question:` How many unique words in the \"text\""
   ]
  },
  {
   "cell_type": "code",
   "execution_count": 29,
   "metadata": {},
   "outputs": [
    {
     "data": {
      "text/plain": [
       "174"
      ]
     },
     "execution_count": 29,
     "metadata": {},
     "output_type": "execute_result"
    }
   ],
   "source": [
    "A = text.split()\n",
    "set(A)\n",
    "len(set(A))"
   ]
  },
  {
   "cell_type": "markdown",
   "metadata": {},
   "source": [
    ">  `Question:` Find Lexical diversity\n",
    "\n",
    "lexical_diversity = (number of words)/(number of unique words)"
   ]
  },
  {
   "cell_type": "code",
   "execution_count": 41,
   "metadata": {},
   "outputs": [
    {
     "name": "stdout",
     "output_type": "stream",
     "text": [
      "1.4022988505747127\n"
     ]
    }
   ],
   "source": [
    "number_of_words = len(text.split())\n",
    "number_of_unique_words = len(set(A))\n",
    "lexical_diversity = (number_of_words)/(number_of_unique_words)\n",
    "print(lexical_diversity)"
   ]
  },
  {
   "cell_type": "markdown",
   "metadata": {},
   "source": [
    ">  `Question:` Count how many \"the\" in text"
   ]
  },
  {
   "cell_type": "code",
   "execution_count": 6,
   "metadata": {},
   "outputs": [
    {
     "data": {
      "text/plain": [
       "14"
      ]
     },
     "execution_count": 6,
     "metadata": {},
     "output_type": "execute_result"
    }
   ],
   "source": [
    "tst = text.lower()\n",
    "tst.count(\"the\")"
   ]
  },
  {
   "cell_type": "markdown",
   "metadata": {},
   "source": [
    ">  `Question:` Count how many \"a\" in text"
   ]
  },
  {
   "cell_type": "code",
   "execution_count": 7,
   "metadata": {},
   "outputs": [
    {
     "data": {
      "text/plain": [
       "92"
      ]
     },
     "execution_count": 7,
     "metadata": {},
     "output_type": "execute_result"
    }
   ],
   "source": [
    "tst.count(\"a\")"
   ]
  },
  {
   "cell_type": "markdown",
   "metadata": {},
   "source": [
    ">  `Question:` Extract First 10 words in text"
   ]
  },
  {
   "cell_type": "code",
   "execution_count": 32,
   "metadata": {},
   "outputs": [
    {
     "data": {
      "text/plain": [
       "['The',\n",
       " 'University',\n",
       " 'of',\n",
       " 'Hawaii',\n",
       " 'began',\n",
       " 'using',\n",
       " 'radio',\n",
       " 'to',\n",
       " 'send',\n",
       " 'digital']"
      ]
     },
     "execution_count": 32,
     "metadata": {},
     "output_type": "execute_result"
    }
   ],
   "source": [
    "A[:10]"
   ]
  },
  {
   "cell_type": "code",
   "execution_count": 4,
   "metadata": {},
   "outputs": [
    {
     "data": {
      "text/plain": [
       "'The University of Hawaii began using radio to send digital'"
      ]
     },
     "execution_count": 4,
     "metadata": {},
     "output_type": "execute_result"
    }
   ],
   "source": [
    "\" \".join(text.split()[:10])"
   ]
  },
  {
   "cell_type": "markdown",
   "metadata": {},
   "source": [
    ">  `Question:` Append \" Innomatics Reseach Labs\" after first 10 words in the text"
   ]
  },
  {
   "cell_type": "code",
   "execution_count": 26,
   "metadata": {},
   "outputs": [
    {
     "data": {
      "text/plain": [
       "'The University of Hawaii began using radio to send digital Innomatics Research Labs'"
      ]
     },
     "execution_count": 26,
     "metadata": {},
     "output_type": "execute_result"
    }
   ],
   "source": [
    "K = \" \".join(text.split()[:10])\n",
    "L = \"Innomatics Research Labs\"\n",
    "M = K +\" \"+ L\n",
    "M"
   ]
  },
  {
   "cell_type": "markdown",
   "metadata": {},
   "source": [
    ">  `Question:` Extract First Fourteen (14) character in text"
   ]
  },
  {
   "cell_type": "code",
   "execution_count": 85,
   "metadata": {},
   "outputs": [
    {
     "data": {
      "text/plain": [
       "'The University'"
      ]
     },
     "execution_count": 85,
     "metadata": {},
     "output_type": "execute_result"
    }
   ],
   "source": [
    "text[0:14:1]"
   ]
  },
  {
   "cell_type": "markdown",
   "metadata": {},
   "source": [
    ">  `Question:` Extract first Fourteen (14) words in text"
   ]
  },
  {
   "cell_type": "code",
   "execution_count": 10,
   "metadata": {},
   "outputs": [
    {
     "data": {
      "text/plain": [
       "'The University of Hawaii began using radio to send digital information as early as'"
      ]
     },
     "execution_count": 10,
     "metadata": {},
     "output_type": "execute_result"
    }
   ],
   "source": [
    "\" \".join(text.split()[:14])"
   ]
  },
  {
   "cell_type": "markdown",
   "metadata": {},
   "source": [
    ">  `Question:` Extract First 10 words in text\n",
    "- Convert every letter into ***upper*** case\n",
    "- Convert every letter into ***lower*** case"
   ]
  },
  {
   "cell_type": "code",
   "execution_count": 49,
   "metadata": {},
   "outputs": [
    {
     "data": {
      "text/plain": [
       "'THE UNIVERSITY OF HAWAII BEGAN USING RADIO TO SEND DIGITAL'"
      ]
     },
     "execution_count": 49,
     "metadata": {},
     "output_type": "execute_result"
    }
   ],
   "source": [
    "A = \" \".join(text.split()[:10])\n",
    "A.upper()"
   ]
  },
  {
   "cell_type": "code",
   "execution_count": 50,
   "metadata": {},
   "outputs": [
    {
     "data": {
      "text/plain": [
       "'the university of hawaii began using radio to send digital'"
      ]
     },
     "execution_count": 50,
     "metadata": {},
     "output_type": "execute_result"
    }
   ],
   "source": [
    "A.lower()"
   ]
  },
  {
   "cell_type": "markdown",
   "metadata": {},
   "source": [
    ">  `Question:`  Find the list of letter starting with \n",
    "- u\n",
    "- o\n",
    "> `hint - You need to use for loop for this`"
   ]
  },
  {
   "cell_type": "code",
   "execution_count": 10,
   "metadata": {},
   "outputs": [
    {
     "name": "stdout",
     "output_type": "stream",
     "text": [
      "List of words starting with u is:\n",
      "{'under', 'university', 'using'}\n"
     ]
    }
   ],
   "source": [
    "print(\"List of words starting with u is:\")\n",
    "n= text.lower()\n",
    "P = n.split()\n",
    "j=[]\n",
    "for i in P:\n",
    "     if i[0]==\"u\":\n",
    "        j.append(i)\n",
    "print(set(j))"
   ]
  },
  {
   "cell_type": "code",
   "execution_count": 12,
   "metadata": {},
   "outputs": [
    {
     "name": "stdout",
     "output_type": "stream",
     "text": [
      "List of words starting with o is:\n",
      "{'oslo.', 'one', 'of', 'out', 'on'}\n"
     ]
    }
   ],
   "source": [
    "print(\"List of words starting with o is:\")\n",
    "s=[]\n",
    "for i in P:\n",
    "    if i[0]==\"o\":\n",
    "            s.append(i)\n",
    "print(set(s))"
   ]
  },
  {
   "cell_type": "markdown",
   "metadata": {},
   "source": [
    ">  `Question:` Find the list of letter ending with \n",
    "- e\n",
    "- n\n",
    "> `hint - You need to use for loop for this`"
   ]
  },
  {
   "cell_type": "code",
   "execution_count": 13,
   "metadata": {},
   "outputs": [
    {
     "name": "stdout",
     "output_type": "stream",
     "text": [
      "List of words ends with e is:\n",
      "{'(groupe', 'mobile', '\"sequence', 'type', 'have', 'he', 'since', '(see', 'made', '(compare', 'determine', 'while', 'deutsche', 'these', 'france', 'simple', 'language', 'be', 'message', 'the', 'one'}\n"
     ]
    }
   ],
   "source": [
    "print(\"List of words ends with e is:\")\n",
    "s=[]\n",
    "for i in P:\n",
    "    if i[-1]==\"e\":\n",
    "    s.append(i)\n",
    "print(set(s))"
   ]
  },
  {
   "cell_type": "code",
   "execution_count": 14,
   "metadata": {},
   "outputs": [
    {
     "name": "stdout",
     "output_type": "stream",
     "text": [
      "List of words ends with n is:\n",
      "{'finn', 'than', 'in', 'information', 'an', 'kevin', 'began', 'can', 'solution', 'ian', 'isdn', 'on'}\n"
     ]
    }
   ],
   "source": [
    "print(\"List of words ends with n is:\")\n",
    "s=[]\n",
    "for i in P:\n",
    "    if i[-1]==\"n\":\n",
    "        s.append(i)\n",
    "print(set(s))"
   ]
  },
  {
   "cell_type": "markdown",
   "metadata": {},
   "source": [
    ">  `Question:` Extract first 10 words of text and Capitalize first letter of each word"
   ]
  },
  {
   "cell_type": "code",
   "execution_count": 93,
   "metadata": {},
   "outputs": [
    {
     "data": {
      "text/plain": [
       "'The University Of Hawaii Began Using Radio To Send Digital'"
      ]
     },
     "execution_count": 93,
     "metadata": {},
     "output_type": "execute_result"
    }
   ],
   "source": [
    "A.title()"
   ]
  },
  {
   "cell_type": "markdown",
   "metadata": {},
   "source": [
    ">  `Question:` Replace the word \"University\" with name \"Innomatics\" in text"
   ]
  },
  {
   "cell_type": "code",
   "execution_count": 6,
   "metadata": {},
   "outputs": [
    {
     "name": "stdout",
     "output_type": "stream",
     "text": [
      "The Innomatics of Hawaii began using radio to send digital information as early as 1971,using ALOHAnet. \n",
      "Friedhelm Hillebrand conceptualised SMS in 1984 while working for Deutsche Telekom. Sitting at a typewriter at home, \n",
      "Hillebrand typed out random sentences and counted every letter, number, punctuation, and space. \n",
      "Almost every time, the messages contained fewer than 160 characters, thus giving the basis for the \n",
      "limit one could type via text messaging. With Bernard Ghillebaert of France Télécom, he developed \n",
      "a proposal for the GSM (Groupe Spécial Mobile) meeting in February 1985 in Oslo. \n",
      "The first technical solution evolved in a GSM subgroup under the leadership of Finn Trosby. \n",
      "It was further developed under the leadership of Kevin Holley and Ian Harris (see Short Message Service). \n",
      "SMS forms an integral part of SS7 (Signalling System No. 7). Under SS7, it is a \"state\" with a 160 character data, \n",
      "coded in the ITU-T \"T.56\" text format, that has a \"sequence lead in\" to determine different language codes, \n",
      "and may have special character codes that permits, for example, sending simple graphs as text. \n",
      "This was part of ISDN (Integrated Services Digital Network) and since GSM is based on this, \n",
      "made its way to the mobile phone. Messages could be sent and received on ISDN phones, \n",
      "and these can send SMS to any GSM phone. The possibility of doing something is one thing, \n",
      "implementing it another, but systems existed from 1988 that sent SMS messages to mobile phones (compare ND-NOTIS)."
     ]
    }
   ],
   "source": [
    "S = text.replace('University',\"Innomatics\")\n",
    "print(S,end=\"\")"
   ]
  },
  {
   "cell_type": "markdown",
   "metadata": {},
   "source": [
    "> `Question:`  Convert the \"text\" into sentances and store those into one variable called \"sentance\""
   ]
  },
  {
   "cell_type": "code",
   "execution_count": 3,
   "metadata": {},
   "outputs": [
    {
     "data": {
      "text/plain": [
       "['The University of Hawaii began using radio to send digital information as early as 1971,using ALOHAnet',\n",
       " ' \\nFriedhelm Hillebrand conceptualised SMS in 1984 while working for Deutsche Telekom',\n",
       " ' Sitting at a typewriter at home, \\nHillebrand typed out random sentences and counted every letter, number, punctuation, and space',\n",
       " ' \\nAlmost every time, the messages contained fewer than 160 characters, thus giving the basis for the \\nlimit one could type via text messaging',\n",
       " ' With Bernard Ghillebaert of France Télécom, he developed \\na proposal for the GSM (Groupe Spécial Mobile) meeting in February 1985 in Oslo',\n",
       " ' \\nThe first technical solution evolved in a GSM subgroup under the leadership of Finn Trosby',\n",
       " ' \\nIt was further developed under the leadership of Kevin Holley and Ian Harris (see Short Message Service)',\n",
       " ' \\nSMS forms an integral part of SS7 (Signalling System No',\n",
       " ' 7)',\n",
       " ' Under SS7, it is a \"state\" with a 160 character data, \\ncoded in the ITU-T \"T',\n",
       " '56\" text format, that has a \"sequence lead in\" to determine different language codes, \\nand may have special character codes that permits, for example, sending simple graphs as text',\n",
       " ' \\nThis was part of ISDN (Integrated Services Digital Network) and since GSM is based on this, \\nmade its way to the mobile phone',\n",
       " ' Messages could be sent and received on ISDN phones, \\nand these can send SMS to any GSM phone',\n",
       " ' The possibility of doing something is one thing, \\nimplementing it another, but systems existed from 1988 that sent SMS messages to mobile phones (compare ND-NOTIS)',\n",
       " '']"
      ]
     },
     "execution_count": 3,
     "metadata": {},
     "output_type": "execute_result"
    }
   ],
   "source": [
    "# CODE HERE\n",
    "sentence = text.split(\".\")\n",
    "sentence"
   ]
  },
  {
   "cell_type": "markdown",
   "metadata": {},
   "source": [
    " `Question:`\n",
    " \n",
    "> 1.From the above sentance remove '\\n'\n"
   ]
  },
  {
   "cell_type": "code",
   "execution_count": 26,
   "metadata": {},
   "outputs": [
    {
     "name": "stdout",
     "output_type": "stream",
     "text": [
      "The University of Hawaii began using radio to send digital information as early as 1971,using ALOHAnet\n",
      " \n",
      "Friedhelm Hillebrand conceptualised SMS in 1984 while working for Deutsche Telekom\n",
      " Sitting at a typewriter at home, \n",
      "Hillebrand typed out random sentences and counted every letter, number, punctuation, and space\n",
      " \n",
      "Almost every time, the messages contained fewer than 160 characters, thus giving the basis for the \n",
      "limit one could type via text messaging\n",
      " With Bernard Ghillebaert of France Télécom, he developed \n",
      "a proposal for the GSM (Groupe Spécial Mobile) meeting in February 1985 in Oslo\n",
      " \n",
      "The first technical solution evolved in a GSM subgroup under the leadership of Finn Trosby\n",
      " \n",
      "It was further developed under the leadership of Kevin Holley and Ian Harris (see Short Message Service)\n",
      " \n",
      "SMS forms an integral part of SS7 (Signalling System No\n",
      " 7)\n",
      " Under SS7, it is a \"state\" with a 160 character data, \n",
      "coded in the ITU-T \"T\n",
      "56\" text format, that has a \"sequence lead in\" to determine different language codes, \n",
      "and may have special character codes that permits, for example, sending simple graphs as text\n",
      " \n",
      "This was part of ISDN (Integrated Services Digital Network) and since GSM is based on this, \n",
      "made its way to the mobile phone\n",
      " Messages could be sent and received on ISDN phones, \n",
      "and these can send SMS to any GSM phone\n",
      " The possibility of doing something is one thing, \n",
      "implementing it another, but systems existed from 1988 that sent SMS messages to mobile phones (compare ND-NOTIS)\n",
      "\n"
     ]
    }
   ],
   "source": [
    "for i in sentence:\n",
    "    print(i)"
   ]
  },
  {
   "cell_type": "markdown",
   "metadata": {},
   "source": [
    " > 2. From the above sentace print the first word from each sentance\n"
   ]
  },
  {
   "cell_type": "code",
   "execution_count": 31,
   "metadata": {},
   "outputs": [
    {
     "name": "stdout",
     "output_type": "stream",
     "text": [
      "The\n",
      "Friedhelm\n",
      "Sitting\n",
      "Almost\n",
      "With\n",
      "The\n",
      "It\n",
      "SMS\n",
      "7)\n",
      "Under\n",
      "56\"\n",
      "This\n",
      "Messages\n",
      "The\n"
     ]
    }
   ],
   "source": [
    "for i in sentence:\n",
    "    v = i.split()\n",
    "    if len(v)!=0:\n",
    "        print(v[0])\n",
    "    "
   ]
  },
  {
   "cell_type": "markdown",
   "metadata": {},
   "source": [
    "> 3. From the above sentace print even posioned sentances"
   ]
  },
  {
   "cell_type": "code",
   "execution_count": 15,
   "metadata": {},
   "outputs": [
    {
     "data": {
      "text/plain": [
       "[' \\nFriedhelm Hillebrand conceptualised SMS in 1984 while working for Deutsche Telekom',\n",
       " ' \\nAlmost every time, the messages contained fewer than 160 characters, thus giving the basis for the \\nlimit one could type via text messaging',\n",
       " ' \\nThe first technical solution evolved in a GSM subgroup under the leadership of Finn Trosby',\n",
       " ' \\nSMS forms an integral part of SS7 (Signalling System No',\n",
       " ' Under SS7, it is a \"state\" with a 160 character data, \\ncoded in the ITU-T \"T',\n",
       " ' \\nThis was part of ISDN (Integrated Services Digital Network) and since GSM is based on this, \\nmade its way to the mobile phone',\n",
       " ' The possibility of doing something is one thing, \\nimplementing it another, but systems existed from 1988 that sent SMS messages to mobile phones (compare ND-NOTIS)']"
      ]
     },
     "execution_count": 15,
     "metadata": {},
     "output_type": "execute_result"
    }
   ],
   "source": [
    "sentence[1: :2]"
   ]
  },
  {
   "cell_type": "markdown",
   "metadata": {},
   "source": [
    ">   `Question:` If the following string is given as input to the program:\n",
    "\n",
    "- H1e2l3l4o5w6o7r8l9d\n",
    "\n",
    ">   `Output:`  Then, the output of the program should be:\n",
    "\n",
    "- Helloworld"
   ]
  },
  {
   "cell_type": "code",
   "execution_count": 5,
   "metadata": {},
   "outputs": [
    {
     "name": "stdout",
     "output_type": "stream",
     "text": [
      "Helloworld"
     ]
    }
   ],
   "source": [
    "Str = \"H1e2l3l4o5w6o7r8l9d\"\n",
    "for i in Str:\n",
    "    if i.isdigit() == False:\n",
    "        print(i,end=\"\")"
   ]
  },
  {
   "cell_type": "markdown",
   "metadata": {},
   "source": [
    "# [Innomatics Research Labs](https:/innomatics.in/)\n",
    "[www.innomatics.in](https:/innomatics.in/)"
   ]
  },
  {
   "cell_type": "code",
   "execution_count": null,
   "metadata": {},
   "outputs": [],
   "source": []
  }
 ],
 "metadata": {
  "kernelspec": {
   "display_name": "Python 3 (ipykernel)",
   "language": "python",
   "name": "python3"
  },
  "language_info": {
   "codemirror_mode": {
    "name": "ipython",
    "version": 3
   },
   "file_extension": ".py",
   "mimetype": "text/x-python",
   "name": "python",
   "nbconvert_exporter": "python",
   "pygments_lexer": "ipython3",
   "version": "3.9.7"
  }
 },
 "nbformat": 4,
 "nbformat_minor": 2
}
