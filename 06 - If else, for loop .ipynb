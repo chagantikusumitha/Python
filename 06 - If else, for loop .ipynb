{
 "cells": [
  {
   "cell_type": "markdown",
   "metadata": {},
   "source": [
    "# IF , ELSE.... FOR LOOP"
   ]
  },
  {
   "cell_type": "markdown",
   "metadata": {},
   "source": [
    "> print this is hour in current minute is odd"
   ]
  },
  {
   "cell_type": "code",
   "execution_count": 2,
   "metadata": {},
   "outputs": [
    {
     "name": "stdout",
     "output_type": "stream",
     "text": [
      "minute : 53\n",
      "This is Odd minute\n"
     ]
    }
   ],
   "source": [
    "A = int(input(\"minute : \"))\n",
    "if(A <= 60) &(A%2!=0):\n",
    "    print(\"This is Odd minute\")\n",
    "else:\n",
    "    print(\"not an odd minute\")"
   ]
  },
  {
   "cell_type": "markdown",
   "metadata": {},
   "source": [
    "> if today is satarday then print 'Party !!!' or if sunday print take rest other wise print work , work, work"
   ]
  },
  {
   "cell_type": "code",
   "execution_count": 3,
   "metadata": {},
   "outputs": [
    {
     "name": "stdout",
     "output_type": "stream",
     "text": [
      "Today is :Saturday\n",
      "Party!!!\n"
     ]
    }
   ],
   "source": [
    "B = input(\"Today is :\")\n",
    "if(B==\"Saturday\"):\n",
    "    print(\"Party!!!\")\n",
    "elif(B==\"Sunday\"):\n",
    "    print(\"Take Rest\")\n",
    "else:\n",
    "    print(\"work,work,work\")"
   ]
  },
  {
   "cell_type": "markdown",
   "metadata": {},
   "source": [
    "> Write a program which will find all such numbers which are divisible by 7 but are not a multiple of 5, between 2000 and 3200 (both included). The numbers obtained should be printed in a comma-separated sequence on a single line."
   ]
  },
  {
   "cell_type": "code",
   "execution_count": 5,
   "metadata": {},
   "outputs": [
    {
     "name": "stdout",
     "output_type": "stream",
     "text": [
      "2002,2009,2016,2023,2037,2044,2051,2058,2072,2079,2086,2093,2107,2114,2121,2128,2142,2149,2156,2163,2177,2184,2191,2198,2212,2219,2226,2233,2247,2254,2261,2268,2282,2289,2296,2303,2317,2324,2331,2338,2352,2359,2366,2373,2387,2394,2401,2408,2422,2429,2436,2443,2457,2464,2471,2478,2492,2499,2506,2513,2527,2534,2541,2548,2562,2569,2576,2583,2597,2604,2611,2618,2632,2639,2646,2653,2667,2674,2681,2688,2702,2709,2716,2723,2737,2744,2751,2758,2772,2779,2786,2793,2807,2814,2821,2828,2842,2849,2856,2863,2877,2884,2891,2898,2912,2919,2926,2933,2947,2954,2961,2968,2982,2989,2996,3003,3017,3024,3031,3038,3052,3059,3066,3073,3087,3094,3101,3108,3122,3129,3136,3143,3157,3164,3171,3178,3192,3199,"
     ]
    }
   ],
   "source": [
    "for i in range(2000,3201):\n",
    "    if(i%7==0)&(i%5!=0):\n",
    "        print(i,end=\",\")"
   ]
  },
  {
   "cell_type": "markdown",
   "metadata": {},
   "source": [
    "> Write a program which can compute the factorial of a given numbers.\n",
    "The results should be printed in a comma-separated sequence on a single line.\n",
    "Suppose the following input is supplied to the program:\n",
    "8\n",
    "Then, the output should be:\n",
    "40320"
   ]
  },
  {
   "cell_type": "code",
   "execution_count": 6,
   "metadata": {},
   "outputs": [
    {
     "name": "stdout",
     "output_type": "stream",
     "text": [
      "Enter a value to compute the factorial: 8\n",
      "8 ! =  40320\n"
     ]
    }
   ],
   "source": [
    "num = int(input(\"Enter a value to compute the factorial: \"))\n",
    "factorial = 1\n",
    "if num<0:\n",
    "    print(\"factorial cannot be calculated\")\n",
    "else:\n",
    "    for i in range(1,num+1):\n",
    "        factorial = factorial*i\n",
    "    print(num,\"! = \",factorial) "
   ]
  },
  {
   "cell_type": "markdown",
   "metadata": {},
   "source": [
    "> With a given integral number n, write a program to generate a dictionary that contains (i, i*i) such that is an integral number between 1 and n (both included). and then the program should print the dictionary.\n",
    "Suppose the following input is supplied to the program:\n",
    "8\n",
    "Then, the output should be:\n",
    "{1: 1, 2: 4, 3: 9, 4: 16, 5: 25, 6: 36, 7: 49, 8: 64}\n",
    "\n",
    "*Hint* : use dict()"
   ]
  },
  {
   "cell_type": "code",
   "execution_count": 22,
   "metadata": {},
   "outputs": [
    {
     "name": "stdout",
     "output_type": "stream",
     "text": [
      "Enter the value: 8\n",
      "{1: 1, 2: 4, 3: 9, 4: 16, 5: 25, 6: 36, 7: 49, 8: 64}\n"
     ]
    }
   ],
   "source": [
    "n = int(input(\"Enter the value: \"))\n",
    "d = {}\n",
    "for i in range(1,n+1):\n",
    "    d[i] = i*i\n",
    "print(d)"
   ]
  },
  {
   "cell_type": "markdown",
   "metadata": {},
   "source": [
    "> create user defined fuction for \n",
    "- addition \"add\"\n",
    "- subtraction \"sub\"\n",
    "- multiplication \"mul\"\n",
    "- division \"div\"\n",
    "- power \"pow\""
   ]
  },
  {
   "cell_type": "code",
   "execution_count": 31,
   "metadata": {},
   "outputs": [
    {
     "name": "stdout",
     "output_type": "stream",
     "text": [
      "Please enter the value : 8\n",
      "Please enter the value : 6\n",
      "Enter the keyword {add, sub, mul, div, pow} :pow\n",
      "Power of 8 by 6 is: 262144\n"
     ]
    }
   ],
   "source": [
    "A = int(input(\"Please enter the value : \"))\n",
    "B = int(input(\"Please enter the value : \"))\n",
    "C = input(\"Enter the keyword {add, sub, mul, div, pow} :\")\n",
    "if C == \"add\":\n",
    "    print(\"addition of\",A,\"and\",B,\"is:\", A + B)\n",
    "elif C == \"sub\":\n",
    "    print(\"subtraction of\",A,\"and\",B,\"is:\",A - B)\n",
    "elif C == \"mul\":\n",
    "    print(\"multiplication of\",A,\"and\",B,\"is:\",A * B)\n",
    "elif C == \"div\":\n",
    "    print(\"division of\",A,\"and\",B,\"is:\",A / B)\n",
    "elif C == \"pow\":\n",
    "    print(\"Power of\",A,\"by\",B,\"is:\",A ** B)"
   ]
  },
  {
   "cell_type": "markdown",
   "metadata": {},
   "source": [
    "### Write a Python program that accepts a string and calculate the number of digits and letters.\n",
    "- Input\n",
    "\n",
    "    - Hello321Bye360\n",
    "- Output\n",
    "\n",
    "    - Digit - 6\n",
    "\n",
    "    - Letter - 8"
   ]
  },
  {
   "cell_type": "code",
   "execution_count": 1,
   "metadata": {},
   "outputs": [
    {
     "name": "stdout",
     "output_type": "stream",
     "text": [
      "Enter the text: Hello321Bye360\n",
      "Digit -  6\n",
      "Letter -  8\n"
     ]
    }
   ],
   "source": [
    "word = input(\"Enter the text: \")\n",
    "Digit = 0\n",
    "Letter = 0\n",
    "for i in word:\n",
    "    if i.isdigit():\n",
    "        Digit = Digit+1\n",
    "    else:\n",
    "        Letter = Letter+1\n",
    "print(\"Digit - \",Digit)\n",
    "print(\"Letter - \",Letter)"
   ]
  },
  {
   "cell_type": "code",
   "execution_count": 7,
   "metadata": {},
   "outputs": [
    {
     "name": "stdout",
     "output_type": "stream",
     "text": [
      "Enter the text: innomatics1231239746\n",
      "Digit -  10\n",
      "Letter -  10\n"
     ]
    }
   ],
   "source": [
    "word = input(\"Enter the text: \")\n",
    "Digit = 0\n",
    "Letter = 0\n",
    "for i in word:\n",
    "    if i.isdigit():\n",
    "        Digit = Digit+1\n",
    "    else:\n",
    "        Letter = Letter+1\n",
    "print(\"Digit - \",Digit)\n",
    "print(\"Letter - \",Letter)"
   ]
  },
  {
   "cell_type": "markdown",
   "metadata": {},
   "source": [
    "### With a given tuple (1,2,3,4,5,6,7,8,9,10), write a program to print the first half values in one line and the last half values in one line."
   ]
  },
  {
   "cell_type": "code",
   "execution_count": 22,
   "metadata": {},
   "outputs": [
    {
     "name": "stdout",
     "output_type": "stream",
     "text": [
      "(1, 2, 3, 4, 5) (6, 7, 8, 9, 10)\n"
     ]
    }
   ],
   "source": [
    "# METHOD - 1\n",
    "tp = (1,2,3,4,5,6,7,8,9,10)\n",
    "tp1 = tp[:5]\n",
    "tp2 = tp[5:]\n",
    "print(tp1,tp2)"
   ]
  },
  {
   "cell_type": "code",
   "execution_count": 21,
   "metadata": {},
   "outputs": [
    {
     "name": "stdout",
     "output_type": "stream",
     "text": [
      "[1, 2, 3, 4, 5]\n",
      "[6, 7, 8, 9, 10]\n"
     ]
    }
   ],
   "source": [
    "# METHOD - 2\n",
    "tp = (1,2,3,4,5,6,7,8,9,10)\n",
    "tp1 = tp[:5]\n",
    "tp2 = tp[5:]\n",
    "print(list(tp1))\n",
    "print(list(tp2))"
   ]
  },
  {
   "cell_type": "code",
   "execution_count": 31,
   "metadata": {},
   "outputs": [
    {
     "name": "stdout",
     "output_type": "stream",
     "text": [
      "[1, 2, 3, 4, 5]\n",
      "[6, 7, 8, 9, 10]\n"
     ]
    }
   ],
   "source": [
    "# METHOD - 2\n",
    "tp = (1,2,3,4,5,6,7,8,9,10)\n",
    "tp1 = tp[:5]\n",
    "tp2 = tp[5:]\n",
    "L1 = []\n",
    "L2 = []\n",
    "for i in tp1:\n",
    "    L1.append(i)\n",
    "for i in tp2:\n",
    "    L2.append(i)\n",
    "print(L1)\n",
    "print(L2)"
   ]
  },
  {
   "cell_type": "code",
   "execution_count": 70,
   "metadata": {},
   "outputs": [
    {
     "name": "stdout",
     "output_type": "stream",
     "text": [
      "1 2 3 4 5 \n",
      "6 7 8 9 10 "
     ]
    }
   ],
   "source": [
    "# METHOD - 3\n",
    "tp = (1,2,3,4,5,6,7,8,9,10)\n",
    "tp1 = tp[:5]\n",
    "tp2 = tp[5:]\n",
    "for i in tp1:\n",
    "    print(i,end=\" \")\n",
    "print(\"\")\n",
    "for i in tp2:    \n",
    "    print(i,end=\" \")\n"
   ]
  },
  {
   "cell_type": "markdown",
   "metadata": {},
   "source": [
    "### Write a program to generate and print another tuple whose values are even numbers in the given tuple (1,2,3,4,5,6,7,8,9,10)"
   ]
  },
  {
   "cell_type": "code",
   "execution_count": 8,
   "metadata": {},
   "outputs": [
    {
     "name": "stdout",
     "output_type": "stream",
     "text": [
      "(2, 4, 6, 8, 10)\n"
     ]
    }
   ],
   "source": [
    "tp = (1,2,3,4,5,6,7,8,9,10)\n",
    "L = []\n",
    "for i in tp:\n",
    "    if(i%2==0):\n",
    "        L.append(i)\n",
    "print(tuple(L))"
   ]
  },
  {
   "cell_type": "code",
   "execution_count": 11,
   "metadata": {},
   "outputs": [
    {
     "data": {
      "text/plain": [
       "(2, 4, 6, 8, 10)"
      ]
     },
     "execution_count": 11,
     "metadata": {},
     "output_type": "execute_result"
    }
   ],
   "source": [
    "tp[1: :2]"
   ]
  },
  {
   "cell_type": "markdown",
   "metadata": {},
   "source": [
    "### Write a program which accepts a string as input to print \"Yes\" if the string is \"yes\" or \"YES\" or \"Yes\", otherwise print \"No\""
   ]
  },
  {
   "cell_type": "code",
   "execution_count": 12,
   "metadata": {},
   "outputs": [
    {
     "name": "stdout",
     "output_type": "stream",
     "text": [
      "Please type something. --> yes\n",
      "Yes\n"
     ]
    }
   ],
   "source": [
    "text = str(input(\"Please type something. --> \"))\n",
    "if text == \"yes\" or text == \"YES\" or text == \"Yes\":\n",
    "    print(\"Yes\")\n",
    "else:\n",
    "    print(\"No\")"
   ]
  },
  {
   "cell_type": "markdown",
   "metadata": {},
   "source": [
    "### Please write a program to generate a list with 5 random numbers between 100 and 200 inclusive."
   ]
  },
  {
   "cell_type": "code",
   "execution_count": 13,
   "metadata": {},
   "outputs": [
    {
     "name": "stdout",
     "output_type": "stream",
     "text": [
      "Random integers between 100 and 200: \n",
      "[172, 199, 195, 177, 107]\n"
     ]
    }
   ],
   "source": [
    "import random\n",
    "print(\"Random integers between 100 and 200: \")\n",
    "S = []\n",
    "for i in range(5):\n",
    "     S.append(random.randrange(100,200))\n",
    "print(S)"
   ]
  },
  {
   "cell_type": "markdown",
   "metadata": {},
   "source": [
    "### Please generate a random float where the value is between 5 and 95 using Python module."
   ]
  },
  {
   "cell_type": "code",
   "execution_count": 14,
   "metadata": {},
   "outputs": [
    {
     "data": {
      "text/plain": [
       "90.6739271172182"
      ]
     },
     "execution_count": 14,
     "metadata": {},
     "output_type": "execute_result"
    }
   ],
   "source": [
    "import random\n",
    "random.uniform(5,95)"
   ]
  },
  {
   "cell_type": "markdown",
   "metadata": {},
   "source": [
    "### [1,1,1,1,3,3,4,4,4,5,6,7,8,8,8]\n",
    "#### 1. from the above list print the uniques values\n",
    "#### 2. count how many times each number exist\n",
    "#### 3. Print the number which is occured more number of times"
   ]
  },
  {
   "cell_type": "code",
   "execution_count": 14,
   "metadata": {},
   "outputs": [
    {
     "data": {
      "text/plain": [
       "[1, 3, 4, 5, 6, 7, 8]"
      ]
     },
     "execution_count": 14,
     "metadata": {},
     "output_type": "execute_result"
    }
   ],
   "source": [
    "# 1. uniques values in a list\n",
    "\n",
    "lt = [1,1,1,1,3,3,4,4,4,5,6,7,8,8,8]\n",
    "set(lt)\n",
    "list(set(lt))"
   ]
  },
  {
   "cell_type": "code",
   "execution_count": 40,
   "metadata": {},
   "outputs": [
    {
     "data": {
      "text/plain": [
       "{1: 4, 3: 2, 4: 3, 5: 1, 6: 1, 7: 1, 8: 3}"
      ]
     },
     "execution_count": 40,
     "metadata": {},
     "output_type": "execute_result"
    }
   ],
   "source": [
    "# 2. count how many times each number exist\n",
    "\n",
    "lt = [1,1,1,1,3,3,4,4,4,5,6,7,8,8,8]\n",
    "d = {}\n",
    "for i in lt:\n",
    "    d[i] = lt.count(i)\n",
    "d"
   ]
  },
  {
   "cell_type": "code",
   "execution_count": 39,
   "metadata": {},
   "outputs": [
    {
     "name": "stdout",
     "output_type": "stream",
     "text": [
      "numbers which are occured more number of times are : \n",
      "1 4 8 "
     ]
    }
   ],
   "source": [
    "#  3. print the number which is occured more number of times\n",
    "\n",
    "lt = [1,1,1,1,3,3,4,4,4,5,6,7,8,8,8]\n",
    "d = {}\n",
    "for i in lt:\n",
    "    d[i] = lt.count(i)\n",
    "d.items()\n",
    "print(\"numbers which are occured more number of times are : \")\n",
    "for i in d.items():\n",
    "    if i[1]>=3:\n",
    "        print(i[0],end = \" \")\n"
   ]
  },
  {
   "cell_type": "markdown",
   "metadata": {},
   "source": [
    "# [Innomatics Research Labs](https:/innomatics.in/)\n",
    "[www.innomatics.in](https:/innomatics.in/)"
   ]
  },
  {
   "cell_type": "code",
   "execution_count": null,
   "metadata": {},
   "outputs": [],
   "source": []
  }
 ],
 "metadata": {
  "kernelspec": {
   "display_name": "Python 3 (ipykernel)",
   "language": "python",
   "name": "python3"
  },
  "language_info": {
   "codemirror_mode": {
    "name": "ipython",
    "version": 3
   },
   "file_extension": ".py",
   "mimetype": "text/x-python",
   "name": "python",
   "nbconvert_exporter": "python",
   "pygments_lexer": "ipython3",
   "version": "3.9.7"
  }
 },
 "nbformat": 4,
 "nbformat_minor": 2
}
